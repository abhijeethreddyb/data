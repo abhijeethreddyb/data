{
 "cells": [
  {
   "cell_type": "code",
   "execution_count": 20,
   "id": "96c877eb-4578-4b9d-98d1-2d769c1b7f34",
   "metadata": {},
   "outputs": [],
   "source": [
    "import gdown\n",
    "import zipfile"
   ]
  },
  {
   "cell_type": "code",
   "execution_count": 22,
   "id": "b5ce1247-575f-4bb6-9f43-56e0597466ac",
   "metadata": {},
   "outputs": [
    {
     "name": "stdout",
     "output_type": "stream",
     "text": [
      "/usr/local/lib/python3.9/site-packages/gdown/cli.py:126: FutureWarning: Option `--id` was deprecated in version 4.3.1 and will be removed in 5.0. You don't need to pass it anymore to use a file ID.\n",
      "  warnings.warn(\n",
      "Downloading...\n",
      "From (uriginal): https://drive.google.com/uc?id=1CaLU_nAhUvosKmvxRpHMdGe7L6bKwjQO\n",
      "From (redirected): https://drive.google.com/uc?id=1CaLU_nAhUvosKmvxRpHMdGe7L6bKwjQO&confirm=t&uuid=3277902b-9afd-4955-912e-aed88c026cc1\n",
      "To: /wadhwani_kdss/Abhijeeth/data/MP_ndvi_hosangabad_2022-23.zip\n",
      "100%|██████████████████████████████████████| 1.78G/1.78G [02:37<00:00, 11.3MB/s]\n"
     ]
    }
   ],
   "source": [
    "!gdown --id 1CaLU_nAhUvosKmvxRpHMdGe7L6bKwjQO"
   ]
  },
  {
   "cell_type": "code",
   "execution_count": 23,
   "id": "cfa23ae3-03ac-48f1-a8db-4e91b6224611",
   "metadata": {},
   "outputs": [],
   "source": [
    "zip_file = zipfile.ZipFile(\"MP_ndvi_hosangabad_2022-23.zip\")\n",
    "zip_file.extractall()\n",
    "zip_file.close()"
   ]
  }
 ],
 "metadata": {
  "kernelspec": {
   "display_name": "Python 3 (ipykernel)",
   "language": "python",
   "name": "python3"
  },
  "language_info": {
   "codemirror_mode": {
    "name": "ipython",
    "version": 3
   },
   "file_extension": ".py",
   "mimetype": "text/x-python",
   "name": "python",
   "nbconvert_exporter": "python",
   "pygments_lexer": "ipython3",
   "version": "3.9.17"
  }
 },
 "nbformat": 4,
 "nbformat_minor": 5
}
